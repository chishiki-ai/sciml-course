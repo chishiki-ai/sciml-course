{
 "cells": [
  {
   "cell_type": "markdown",
   "id": "stuck-stand",
   "metadata": {
    "id": "f3b14cf6-a36f-48a4-994c-f37d0a8dea41"
   },
   "source": [
    "# 01: Classification Part 4"
   ]
  },
  {
   "cell_type": "markdown",
   "id": "split-cemetery",
   "metadata": {
    "id": "002febf7"
   },
   "source": [
    "### Load variables"
   ]
  },
  {
   "cell_type": "code",
   "execution_count": null,
   "id": "invisible-debut",
   "metadata": {},
   "outputs": [],
   "source": [
    "import pickle\n",
    "import pandas as pd\n",
    "with open(\"classification.pickle\", \"rb\") as f:\n",
    "    transform_series = lambda x: pd.DataFrame(x).iloc[:,0] if isinstance(x, pd.core.series.Series) else x\n",
    "    X_train, y_train, X_val, y_val, X_test, y_test = list(map(transform_series, pickle.load(f)[0:6]))"
   ]
  },
  {
   "cell_type": "markdown",
   "id": "quality-coffee",
   "metadata": {},
   "source": [
    "Import packages and related functions."
   ]
  },
  {
   "cell_type": "code",
   "execution_count": null,
   "id": "institutional-authority",
   "metadata": {
    "id": "d3bdf0d4"
   },
   "outputs": [],
   "source": [
    "import numpy as np\n",
    "from sklearn.model_selection import cross_val_score, GridSearchCV, cross_val_predict, KFold\n",
    "from sklearn.preprocessing import MinMaxScaler\n",
    "from sklearn.metrics import cohen_kappa_score, roc_curve, roc_auc_score, accuracy_score, classification_report, make_scorer\n",
    "from sklearn.ensemble import RandomForestClassifier"
   ]
  },
  {
   "cell_type": "markdown",
   "id": "informational-cartoon",
   "metadata": {},
   "source": [
    "### Automatic Hyperparameter tuning with Random Forest"
   ]
  },
  {
   "cell_type": "code",
   "execution_count": null,
   "id": "mathematical-armor",
   "metadata": {
    "id": "dd4b060a"
   },
   "outputs": [],
   "source": [
    "# define function to find best parameter combination based on Cohen’s kappa coefficient\n",
    "def rfr_model(X, y):\n",
    "# Perform Grid-Search\n",
    "    kappa_scorer = make_scorer(cohen_kappa_score)\n",
    "    \n",
    "    # Use grid search to find the parameters that produce the highest accuracy\n",
    "    gsc = GridSearchCV(\n",
    "        estimator=RandomForestClassifier(),\n",
    "        param_grid={\n",
    "            'max_depth': range(2,10),\n",
    "            'n_estimators': (5,10, 50, 100, 1000),\n",
    "            'max_features': ('sqrt','log2'),\n",
    "            'criterion': ('gini','entropy'),\n",
    "        },\n",
    "        cv=10, verbose=0, n_jobs=-1,scoring=kappa_scorer)\n",
    "\n",
    "    # call gsc fit on X and y\n",
    "    grid_result = gsc.fit(X, y)\n",
    "    best_params = grid_result.best_params_\n",
    "\n",
    "    # Use the best parameter to create the final classifier\n",
    "    rfr = RandomForestClassifier(max_depth=best_params[\"max_depth\"],\n",
    "                                 n_estimators=best_params[\"n_estimators\"],\n",
    "                                 max_features=best_params[\"max_features\"], criterion = best_params[\"criterion\"])\n",
    "    \n",
    "    # Perform K-Fold CV, and return the most optimized RandomForest\n",
    "    scores = cross_val_score(rfr, X, y, cv=10)\n",
    "    predictions = cross_val_predict(rfr, X, y, cv=10)\n",
    "    optimised_random_forest = gsc.best_estimator_\n",
    "\n",
    "    print(\"Scores: {}\", scores)\n",
    "    return scores, optimised_random_forest"
   ]
  },
  {
   "cell_type": "markdown",
   "id": "after-international",
   "metadata": {},
   "source": [
    "Create an optimized random forest `rf`."
   ]
  },
  {
   "cell_type": "code",
   "execution_count": null,
   "id": "educational-symphony",
   "metadata": {},
   "outputs": [],
   "source": [
    "# TODO: EXERCISE\n"
   ]
  },
  {
   "cell_type": "code",
   "execution_count": null,
   "id": "communist-burlington",
   "metadata": {
    "colab": {
     "base_uri": "https://localhost:8080/"
    },
    "id": "1b02e752",
    "outputId": "fd89d98f-899f-4c5f-821e-f6d8d0a43079"
   },
   "outputs": [],
   "source": [
    "#print GridSearch results: the best parameters and the best cross validation scores.\n",
    "print('Best parameters:', rf)\n",
    "print('---')\n",
    "print('CV scores:', scores)\n",
    "print('CV scores (average):', np.mean(scores))\n",
    "print('Training score:', rf.score(X_train, y_train))\n",
    "print('Testing score:', rf.score(X_test, y_test))"
   ]
  }
 ],
 "metadata": {
  "IMAGE_NAME": "taccsciapps/ds-nb-img:base-0.1.2",
  "UUID": "74a50b78-3e8a-11ed-8804-4effbeb9a4da",
  "colab": {
   "provenance": []
  },
  "kernelspec": {
   "display_name": "Python 3",
   "language": "python",
   "name": "python3"
  },
  "language_info": {
   "codemirror_mode": {
    "name": "ipython",
    "version": 3
   },
   "file_extension": ".py",
   "mimetype": "text/x-python",
   "name": "python",
   "nbconvert_exporter": "python",
   "pygments_lexer": "ipython3",
   "version": "3.9.2"
  }
 },
 "nbformat": 4,
 "nbformat_minor": 5
}
