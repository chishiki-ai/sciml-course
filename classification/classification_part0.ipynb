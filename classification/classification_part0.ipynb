{
 "cells": [
  {
   "cell_type": "markdown",
   "id": "fatty-broad",
   "metadata": {
    "id": "f3b14cf6-a36f-48a4-994c-f37d0a8dea41"
   },
   "source": [
    "# 01: Classification Part 0"
   ]
  },
  {
   "cell_type": "code",
   "execution_count": null,
   "id": "casual-needle",
   "metadata": {
    "scrolled": true
   },
   "outputs": [],
   "source": [
    "# Check Python version\n",
    "import sys; sys.version"
   ]
  },
  {
   "cell_type": "markdown",
   "id": "lesser-henry",
   "metadata": {},
   "source": [
    "Check current Python version. Your Python version needs to be `>=3.9`."
   ]
  },
  {
   "cell_type": "markdown",
   "id": "reflected-beads",
   "metadata": {
    "id": "40f2e500"
   },
   "source": [
    "### Install packages"
   ]
  },
  {
   "cell_type": "code",
   "execution_count": null,
   "id": "fifteen-mobility",
   "metadata": {
    "colab": {
     "base_uri": "https://localhost:8080/"
    },
    "id": "f7f25036",
    "outputId": "7196f83f-b0f9-4706-e2cb-68bc53756e73"
   },
   "outputs": [],
   "source": [
    "!python3 -m pip install --user --upgrade --no-cache-dir --no-warn-script-location --disable-pip-version-check pip "
   ]
  },
  {
   "cell_type": "code",
   "execution_count": null,
   "id": "recent-consensus",
   "metadata": {},
   "outputs": [],
   "source": [
    "!python3 -m pip install --user --upgrade --no-cache-dir --no-warn-script-location numpy==1.26.4"
   ]
  },
  {
   "cell_type": "code",
   "execution_count": null,
   "id": "configured-industry",
   "metadata": {},
   "outputs": [],
   "source": [
    "!python3 -m pip install --user --upgrade --no-cache-dir --no-warn-script-location numexpr==2.10.1"
   ]
  },
  {
   "cell_type": "code",
   "execution_count": null,
   "id": "valuable-ordinary",
   "metadata": {},
   "outputs": [],
   "source": [
    "!python3 -m pip install --user --upgrade --no-cache-dir --no-warn-script-location pandas==2.2.2"
   ]
  },
  {
   "cell_type": "code",
   "execution_count": null,
   "id": "objective-posting",
   "metadata": {},
   "outputs": [],
   "source": [
    "!python3 -m pip install --user --upgrade --no-cache-dir --no-warn-script-location scikit-learn==1.5.0"
   ]
  },
  {
   "cell_type": "code",
   "execution_count": null,
   "id": "hollywood-party",
   "metadata": {},
   "outputs": [],
   "source": [
    "!python3 -m pip install --user --upgrade --no-cache-dir --no-warn-script-location xgboost==1.6.2"
   ]
  },
  {
   "cell_type": "code",
   "execution_count": null,
   "id": "infrared-skirt",
   "metadata": {},
   "outputs": [],
   "source": [
    "!python3 -m pip install --user --upgrade --no-cache-dir --no-warn-script-location shap==0.46.0"
   ]
  },
  {
   "cell_type": "code",
   "execution_count": null,
   "id": "statewide-diana",
   "metadata": {},
   "outputs": [],
   "source": [
    "# To check if package_name is installed, do !python3 -m pip show package_name"
   ]
  }
 ],
 "metadata": {
  "IMAGE_NAME": "taccsciapps/ds-nb-img:base-0.1.2",
  "UUID": "74a50b78-3e8a-11ed-8804-4effbeb9a4da",
  "colab": {
   "provenance": []
  },
  "kernelspec": {
   "display_name": "Python 3",
   "language": "python",
   "name": "python3"
  },
  "language_info": {
   "codemirror_mode": {
    "name": "ipython",
    "version": 3
   },
   "file_extension": ".py",
   "mimetype": "text/x-python",
   "name": "python",
   "nbconvert_exporter": "python",
   "pygments_lexer": "ipython3",
   "version": "3.9.2"
  }
 },
 "nbformat": 4,
 "nbformat_minor": 5
}
