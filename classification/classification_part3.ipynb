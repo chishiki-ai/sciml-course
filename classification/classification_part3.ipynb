{
 "cells": [
  {
   "cell_type": "markdown",
   "id": "announced-profit",
   "metadata": {
    "id": "f3b14cf6-a36f-48a4-994c-f37d0a8dea41"
   },
   "source": [
    "# 01: Classification Part 3"
   ]
  },
  {
   "cell_type": "markdown",
   "id": "retired-heading",
   "metadata": {
    "id": "002febf7"
   },
   "source": [
    "### Load variables"
   ]
  },
  {
   "cell_type": "code",
   "execution_count": null,
   "id": "utility-transaction",
   "metadata": {},
   "outputs": [],
   "source": [
    "import pickle\n",
    "import pandas as pd\n",
    "with open(\"classification.pickle\", \"rb\") as f:\n",
    "    transform_series = lambda x: pd.DataFrame(x).iloc[:,0] if isinstance(x, pd.core.series.Series) else x\n",
    "    X_train, y_train, X_val, y_val, X_test, y_test, clf = list(map(transform_series, pickle.load(f)[0:7]))"
   ]
  },
  {
   "cell_type": "markdown",
   "id": "indie-sunrise",
   "metadata": {
    "id": "18442ec0"
   },
   "source": [
    "## Plot metrics"
   ]
  },
  {
   "cell_type": "markdown",
   "id": "fluid-falls",
   "metadata": {
    "id": "ea6f67c8"
   },
   "source": [
    "### Confusion Matrix"
   ]
  },
  {
   "cell_type": "code",
   "execution_count": null,
   "id": "taken-clarity",
   "metadata": {
    "id": "e072bf50"
   },
   "outputs": [],
   "source": [
    "%matplotlib inline\n",
    "\n",
    "import matplotlib.pyplot as plt\n",
    "import numpy as np\n",
    "from sklearn.metrics import confusion_matrix\n",
    "\n",
    "# function to plot a confusion matrix based on inputs y_true and y_pred\n",
    "def plot_confusion_matrix(y_true, y_pred, normalize=False):\n",
    "\n",
    "    cm = confusion_matrix(y_true, y_pred)\n",
    "\n",
    "    if normalize:\n",
    "        cm = cm.astype('float') / len(y_true)\n",
    "        cm = np.round(cm, decimals=3)\n",
    "\n",
    "    fig, ax = plt.subplots()\n",
    "    im = ax.imshow(cm, cmap=plt.cm.Blues)\n",
    "\n",
    "    ax.set_xticks([0,1])\n",
    "    ax.set_yticks([0,1])\n",
    "    ax.set_xticklabels(['No','Yes'])\n",
    "    ax.set_yticklabels(['No','Yes'])\n",
    "    ax.set_xlabel('Predicted')\n",
    "    ax.set_ylabel('True')\n",
    "\n",
    "    for i in range(2):\n",
    "        for j in range(2):\n",
    "            text = ax.text(j, i, cm[i, j], ha=\"center\", va=\"center\", color=\"black\")\n",
    "\n",
    "    ax.set_title('Confusion Matrix')\n",
    "    fig.tight_layout()\n",
    "    plt.show()"
   ]
  },
  {
   "cell_type": "code",
   "execution_count": null,
   "id": "cathedral-combine",
   "metadata": {
    "colab": {
     "base_uri": "https://localhost:8080/",
     "height": 487
    },
    "id": "ad57947c",
    "outputId": "765657ab-baa6-4452-f752-c0681dc0051b"
   },
   "outputs": [],
   "source": [
    "# make prediction on test set\n",
    "y_pred = clf.predict(X_test)\n",
    "# plot confusion matrix for test set\n",
    "plot_confusion_matrix(y_test, y_pred, normalize=True)"
   ]
  },
  {
   "cell_type": "code",
   "execution_count": null,
   "id": "tropical-newark",
   "metadata": {
    "colab": {
     "base_uri": "https://localhost:8080/",
     "height": 487
    },
    "id": "684e7850",
    "outputId": "6d42f7cb-638f-4b23-a0c7-7eff4d4c7979"
   },
   "outputs": [],
   "source": [
    "# make prediction on training set\n",
    "y_pred_train = clf.predict(X_train)\n",
    "# plot confusion matrix for training set\n",
    "plot_confusion_matrix(y_train, y_pred_train, normalize = True)"
   ]
  },
  {
   "cell_type": "markdown",
   "id": "contemporary-bench",
   "metadata": {
    "id": "78c535dd"
   },
   "source": [
    "### ROC Curves"
   ]
  },
  {
   "cell_type": "code",
   "execution_count": null,
   "id": "attached-phenomenon",
   "metadata": {
    "colab": {
     "base_uri": "https://localhost:8080/",
     "height": 472
    },
    "id": "0e51f5e2",
    "outputId": "372cef17-5f9f-4a41-89db-ce765d19b97d"
   },
   "outputs": [],
   "source": [
    "from sklearn.metrics import cohen_kappa_score, roc_curve, roc_auc_score, accuracy_score, classification_report, make_scorer\n",
    "\n",
    "# function plot a ROC curve.\n",
    "def plot_roc_cur(fper, tper):\n",
    "    plt.plot(fper, tper, color='orange', label='ROC')\n",
    "    plt.plot([0, 1], [0, 1], color='darkblue', linestyle='--')\n",
    "    plt.xlabel('False Positive Rate')\n",
    "    plt.ylabel('True Positive Rate')\n",
    "    plt.title('Receiver Operating Characteristic (ROC) Curve')\n",
    "    plt.legend()\n",
    "    plt.show()\n",
    "\n",
    "# ROC curve based on test set.\n",
    "probs = clf.predict_proba(X_test)[:, 1]\n",
    "fper, tper, thresholds = roc_curve(y_test, probs)\n",
    "plot_roc_cur(fper, tper)"
   ]
  },
  {
   "cell_type": "markdown",
   "id": "exterior-anthropology",
   "metadata": {},
   "source": [
    "### Precision-Recall Curves"
   ]
  },
  {
   "cell_type": "code",
   "execution_count": null,
   "id": "indirect-significance",
   "metadata": {
    "colab": {
     "base_uri": "https://localhost:8080/",
     "height": 472
    },
    "id": "62487d3e",
    "outputId": "bc099b9a-d21b-4436-ea84-fefd21792a27"
   },
   "outputs": [],
   "source": [
    "from sklearn.metrics import precision_recall_curve, roc_curve\n",
    "import matplotlib.pyplot as plt\n",
    "\n",
    "#use logistic regression model to make predictions\n",
    "y_score = clf.predict_proba(X_test)[:, 1]\n",
    "\n",
    "#calculate precision and recall\n",
    "precision, recall, thresholds = precision_recall_curve(y_test, y_score)\n",
    "\n",
    "#create precision recall curve\n",
    "fig, ax = plt.subplots()\n",
    "ax.plot(recall, precision, color='purple')\n",
    "\n",
    "#add axis labels to plot\n",
    "ax.set_title('Precision-Recall Curve')\n",
    "ax.set_ylabel('Precision')\n",
    "ax.set_xlabel('Recall')\n",
    "\n",
    "#display plot\n",
    "plt.show()"
   ]
  }
 ],
 "metadata": {
  "IMAGE_NAME": "taccsciapps/ds-nb-img:base-0.1.2",
  "UUID": "74a50b78-3e8a-11ed-8804-4effbeb9a4da",
  "colab": {
   "provenance": []
  },
  "kernelspec": {
   "display_name": "Python 3",
   "language": "python",
   "name": "python3"
  },
  "language_info": {
   "codemirror_mode": {
    "name": "ipython",
    "version": 3
   },
   "file_extension": ".py",
   "mimetype": "text/x-python",
   "name": "python",
   "nbconvert_exporter": "python",
   "pygments_lexer": "ipython3",
   "version": "3.9.2"
  }
 },
 "nbformat": 4,
 "nbformat_minor": 5
}
