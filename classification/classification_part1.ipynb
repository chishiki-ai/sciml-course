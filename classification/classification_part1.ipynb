{
 "cells": [
  {
   "cell_type": "markdown",
   "id": "fatty-broad",
   "metadata": {
    "id": "f3b14cf6-a36f-48a4-994c-f37d0a8dea41"
   },
   "source": [
    "# 01: Classification Part 1"
   ]
  },
  {
   "cell_type": "markdown",
   "id": "stainless-spirituality",
   "metadata": {
    "id": "1600baa1-0531-49db-8130-3142f4a1f87c"
   },
   "source": [
    "### Explore data"
   ]
  },
  {
   "cell_type": "code",
   "execution_count": null,
   "id": "retired-slovak",
   "metadata": {
    "id": "66794fe1"
   },
   "outputs": [],
   "source": [
    "import pandas as pd\n",
    "from sklearn.model_selection import train_test_split"
   ]
  },
  {
   "cell_type": "code",
   "execution_count": null,
   "id": "cross-valuation",
   "metadata": {
    "id": "ceec1741-50d0-4eb8-b58c-a211217bc9ae"
   },
   "outputs": [],
   "source": [
    "df = pd.read_csv('https://raw.githubusercontent.com/kks32-courses/sciml/main/lectures/01-classification/RF_YN_Model3.csv')"
   ]
  },
  {
   "cell_type": "code",
   "execution_count": null,
   "id": "structured-muslim",
   "metadata": {},
   "outputs": [],
   "source": [
    "# TODO: EXERCISE\n",
    "\n",
    "# Explore dataframe"
   ]
  },
  {
   "cell_type": "markdown",
   "id": "official-guide",
   "metadata": {
    "id": "9200619d"
   },
   "source": [
    "### Filtering for features\n",
    "\n",
    "Remove any feature in the dataset that we don't want to include in the training process."
   ]
  },
  {
   "cell_type": "code",
   "execution_count": null,
   "id": "controversial-baking",
   "metadata": {
    "colab": {
     "base_uri": "https://localhost:8080/",
     "height": 206
    },
    "id": "ad8add03-5ff0-4fde-ac6e-676ae9414e86",
    "outputId": "55b0ba72-2249-48a7-a722-5cb6603e1f81"
   },
   "outputs": [],
   "source": [
    "df = df.drop(['Test ID', 'Elevation'], axis=1)\n",
    "df.head()"
   ]
  },
  {
   "cell_type": "code",
   "execution_count": null,
   "id": "humanitarian-toner",
   "metadata": {
    "colab": {
     "base_uri": "https://localhost:8080/"
    },
    "id": "259f8a61-2a28-4a9d-97c3-eaeb5104c676",
    "outputId": "a5737803-c6f8-4bb9-b875-83c424be4d4c"
   },
   "outputs": [],
   "source": [
    "X = df.copy(deep=True)\n",
    "y = df['Target']\n",
    "y.head()"
   ]
  },
  {
   "cell_type": "markdown",
   "id": "vocal-advice",
   "metadata": {
    "id": "002febf7"
   },
   "source": [
    "### Training, testing and validation"
   ]
  },
  {
   "cell_type": "code",
   "execution_count": null,
   "id": "intellectual-amendment",
   "metadata": {
    "colab": {
     "base_uri": "https://localhost:8080/",
     "height": 424
    },
    "id": "ebd21c10-5f73-4512-b31a-28ad694fd09d",
    "outputId": "93f5db46-624d-4e97-ec53-c2094fc3f317"
   },
   "outputs": [],
   "source": [
    "X"
   ]
  },
  {
   "cell_type": "markdown",
   "id": "dirty-neutral",
   "metadata": {
    "id": "b08ebbfb"
   },
   "source": [
    "We are going to use the `train_test_split` function twice to split the data into training + validation and testing. Then, we split the `training + validation` into training and validation. We retrain the target values for now, so we can check how good is our prediction."
   ]
  },
  {
   "cell_type": "code",
   "execution_count": null,
   "id": "vocal-thousand",
   "metadata": {
    "id": "eff8049c-9c39-4880-9621-7f50e6c6062e"
   },
   "outputs": [],
   "source": [
    "X_train_target, X_val_test_target, y_train, y_val_test = train_test_split(X, y, test_size=0.2)\n",
    "X_test_target, X_val_target, y_test, y_val = train_test_split(X_val_test_target, y_val_test, test_size=0.2)"
   ]
  },
  {
   "cell_type": "code",
   "execution_count": null,
   "id": "disabled-market",
   "metadata": {
    "colab": {
     "base_uri": "https://localhost:8080/",
     "height": 424
    },
    "id": "b8786fc9-6eca-4494-b2b6-5888abafee81",
    "outputId": "0e8587b4-1585-4068-e63b-1a57edd8f209"
   },
   "outputs": [],
   "source": [
    "X_val_target"
   ]
  },
  {
   "cell_type": "code",
   "execution_count": null,
   "id": "endangered-association",
   "metadata": {
    "id": "819fd8c4-11f9-4b65-98dc-69ce5523220a"
   },
   "outputs": [],
   "source": [
    "X_train = X_train_target.drop(['Target'], axis=1)\n",
    "X_test = X_test_target.drop(['Target'], axis=1)\n",
    "X_val = X_val_target.drop(['Target'], axis=1)"
   ]
  },
  {
   "cell_type": "code",
   "execution_count": null,
   "id": "median-class",
   "metadata": {
    "colab": {
     "base_uri": "https://localhost:8080/",
     "height": 206
    },
    "id": "d34e84af-5f70-4c0a-ac58-cb28d5210429",
    "outputId": "29b65a2a-1930-43d9-9994-943ae65dd62a"
   },
   "outputs": [],
   "source": [
    "X_test.head()"
   ]
  },
  {
   "cell_type": "code",
   "execution_count": null,
   "id": "bronze-jurisdiction",
   "metadata": {
    "colab": {
     "base_uri": "https://localhost:8080/"
    },
    "id": "1cc159d1-a924-4d19-9b8c-8e47c9a09ed4",
    "outputId": "313e8423-4c85-430e-b29c-c46120d50acf"
   },
   "outputs": [],
   "source": [
    "y_test.head()"
   ]
  }
 ],
 "metadata": {
  "IMAGE_NAME": "taccsciapps/ds-nb-img:base-0.1.2",
  "UUID": "74a50b78-3e8a-11ed-8804-4effbeb9a4da",
  "colab": {
   "provenance": []
  },
  "kernelspec": {
   "display_name": "Python 3",
   "language": "python",
   "name": "python3"
  },
  "language_info": {
   "codemirror_mode": {
    "name": "ipython",
    "version": 3
   },
   "file_extension": ".py",
   "mimetype": "text/x-python",
   "name": "python",
   "nbconvert_exporter": "python",
   "pygments_lexer": "ipython3",
   "version": "3.9.2"
  }
 },
 "nbformat": 4,
 "nbformat_minor": 5
}
