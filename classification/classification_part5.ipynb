{
 "cells": [
  {
   "cell_type": "markdown",
   "id": "streaming-career",
   "metadata": {
    "id": "f3b14cf6-a36f-48a4-994c-f37d0a8dea41"
   },
   "source": [
    "# 01: Classification Part 5"
   ]
  },
  {
   "cell_type": "markdown",
   "id": "facial-drama",
   "metadata": {
    "id": "002febf7"
   },
   "source": [
    "### Load variables and packages"
   ]
  },
  {
   "cell_type": "code",
   "execution_count": null,
   "id": "technological-pollution",
   "metadata": {},
   "outputs": [],
   "source": [
    "import pickle\n",
    "import pandas as pd\n",
    "with open(\"classification.pickle\", \"rb\") as f:\n",
    "    transform_series = lambda x: pd.DataFrame(x).iloc[:,0] if isinstance(x, pd.core.series.Series) else x\n",
    "    X_train, y_train, X_val, y_val, X_test, y_test, clf, rf, X_test_target = list(map(transform_series, pickle.load(f)))"
   ]
  },
  {
   "cell_type": "markdown",
   "id": "smoking-fantasy",
   "metadata": {},
   "source": [
    "Import packages and related functions."
   ]
  },
  {
   "cell_type": "markdown",
   "id": "apart-workplace",
   "metadata": {
    "id": "edbd3360-f0e8-48d2-bfcb-e1f1f41c68e2"
   },
   "source": [
    "### XGBoost"
   ]
  },
  {
   "cell_type": "code",
   "execution_count": null,
   "id": "concrete-triple",
   "metadata": {},
   "outputs": [],
   "source": [
    "%matplotlib inline\n",
    "import numpy as np\n",
    "import matplotlib.pyplot as plt\n",
    "import xgboost"
   ]
  },
  {
   "cell_type": "markdown",
   "id": "twenty-planner",
   "metadata": {},
   "source": [
    "Use the `xgboost` package and create a classifier `xgb` with `max_depth` of 9."
   ]
  },
  {
   "cell_type": "code",
   "execution_count": null,
   "id": "surprised-skill",
   "metadata": {},
   "outputs": [],
   "source": [
    "# TODO: EXERCISE\n"
   ]
  },
  {
   "cell_type": "code",
   "execution_count": null,
   "id": "toxic-eagle",
   "metadata": {
    "colab": {
     "base_uri": "https://localhost:8080/"
    },
    "id": "c74a76fa-d29e-420c-94f2-1cb3d81fb96f",
    "outputId": "1b4a9d82-22f0-4dfe-de94-a1ccf5a5d21f"
   },
   "outputs": [],
   "source": [
    "print('Training score: %.2f%%' %(xgb.score(X_train, y_train) * 100))\n",
    "print('Validation score: %.2f%%' %(xgb.score(X_val, y_val) * 100))\n",
    "print('Testing score: %.2f%%' %(xgb.score(X_test, y_test) * 100))"
   ]
  },
  {
   "cell_type": "markdown",
   "id": "treated-liquid",
   "metadata": {
    "id": "edbd3360-f0e8-48d2-bfcb-e1f1f41c68e2"
   },
   "source": [
    "### Explainable AI"
   ]
  },
  {
   "cell_type": "code",
   "execution_count": null,
   "id": "interracial-trace",
   "metadata": {
    "id": "82f74131"
   },
   "outputs": [],
   "source": [
    "## Compute feature importance for an input model\n",
    "def plot_feature_importance(X, model):\n",
    "    df2=pd.get_dummies(X)\n",
    "    features = df2.columns\n",
    "    importances = model.feature_importances_\n",
    "    indices = np.argsort(importances)[-10:]  # top 10 features\n",
    "    plt.title('Feature Importances')\n",
    "    plt.barh(range(len(indices)), importances[indices], color='b', align='center')\n",
    "    plt.yticks(range(len(indices)), [features[i] for i in indices])\n",
    "    plt.xlabel('Relative Importance')\n",
    "    plt.show()\n",
    "\n",
    "    fi = pd.DataFrame({'feature': list(X.columns),\n",
    "                       'importance': model.feature_importances_}).\\\n",
    "                       sort_values('importance', ascending = False)\n",
    "\n",
    "    return fi"
   ]
  },
  {
   "cell_type": "code",
   "execution_count": null,
   "id": "emerging-allocation",
   "metadata": {
    "colab": {
     "base_uri": "https://localhost:8080/",
     "height": 630
    },
    "id": "ba4bd96a",
    "outputId": "6d3e11bb-8e61-431a-884b-71465412b7ce"
   },
   "outputs": [],
   "source": [
    "# plot feature importance of the decision tree clf\n",
    "plot_feature_importance(X_test, clf)"
   ]
  },
  {
   "cell_type": "code",
   "execution_count": null,
   "id": "proper-ticket",
   "metadata": {
    "colab": {
     "base_uri": "https://localhost:8080/",
     "height": 630
    },
    "id": "c70b628b",
    "outputId": "739dc4fd-1165-48ce-bb1e-ad6cdb242924"
   },
   "outputs": [],
   "source": [
    "# plot feature importance of the random forest rf\n",
    "plot_feature_importance(X_test, rf)"
   ]
  },
  {
   "cell_type": "code",
   "execution_count": null,
   "id": "judicial-eugene",
   "metadata": {
    "colab": {
     "base_uri": "https://localhost:8080/",
     "height": 630
    },
    "id": "f5419885",
    "outputId": "78769beb-5aca-4b57-92f7-0ee39d1fe254"
   },
   "outputs": [],
   "source": [
    "# plot feature importance of the xgbClassifieer xgb\n",
    "plot_feature_importance(X_test, xgb)"
   ]
  },
  {
   "cell_type": "markdown",
   "id": "controversial-isaac",
   "metadata": {
    "id": "6675df68"
   },
   "source": [
    "### Shapley Values"
   ]
  },
  {
   "cell_type": "code",
   "execution_count": null,
   "id": "determined-surge",
   "metadata": {
    "id": "b11a487e-5955-43e9-b095-13c1688c3f82"
   },
   "outputs": [],
   "source": [
    "import shap\n",
    "explainer = shap.TreeExplainer(xgb)\n",
    "shap_values = explainer(X_test)"
   ]
  },
  {
   "cell_type": "code",
   "execution_count": null,
   "id": "acute-floor",
   "metadata": {
    "colab": {
     "base_uri": "https://localhost:8080/",
     "height": 206
    },
    "id": "06ef0e96-7e03-41c7-b84c-e7e76541d593",
    "outputId": "c682d555-9c73-4b7e-b48b-dfd17d330ae2"
   },
   "outputs": [],
   "source": [
    "X_test_target.head()"
   ]
  },
  {
   "cell_type": "markdown",
   "id": "retired-amazon",
   "metadata": {},
   "source": [
    "#### Positive Prediction "
   ]
  },
  {
   "cell_type": "code",
   "execution_count": null,
   "id": "static-environment",
   "metadata": {
    "colab": {
     "base_uri": "https://localhost:8080/",
     "height": 386
    },
    "id": "7c775e64-96eb-458c-b88c-f3e8a8ae5269",
    "outputId": "73e99184-c529-452f-c1a0-838af2a62eae"
   },
   "outputs": [],
   "source": [
    "shap.plots.waterfall(shap_values[1])"
   ]
  },
  {
   "cell_type": "markdown",
   "id": "powerful-intro",
   "metadata": {},
   "source": [
    "#### Negative Predictions"
   ]
  },
  {
   "cell_type": "code",
   "execution_count": null,
   "id": "cloudy-latitude",
   "metadata": {
    "colab": {
     "base_uri": "https://localhost:8080/",
     "height": 386
    },
    "id": "19ac42b1-33b3-4e65-aad7-cb65f9ba4db3",
    "outputId": "e8823612-3d7e-40f8-9cc6-61776669caad"
   },
   "outputs": [],
   "source": [
    "shap.plots.waterfall(shap_values[4])"
   ]
  },
  {
   "cell_type": "markdown",
   "id": "velvet-robertson",
   "metadata": {
    "id": "dc6f0848"
   },
   "source": [
    "### Global explanation"
   ]
  },
  {
   "cell_type": "code",
   "execution_count": null,
   "id": "administrative-pakistan",
   "metadata": {
    "colab": {
     "base_uri": "https://localhost:8080/",
     "height": 346
    },
    "id": "dd648353-fccb-4c88-98e2-8265e6d6f70a",
    "outputId": "369a9174-7fd4-457d-b0af-7aaacfd0780d"
   },
   "outputs": [],
   "source": [
    "shap.plots.beeswarm(shap_values)"
   ]
  }
 ],
 "metadata": {
  "IMAGE_NAME": "taccsciapps/ds-nb-img:base-0.1.2",
  "UUID": "74a50b78-3e8a-11ed-8804-4effbeb9a4da",
  "colab": {
   "provenance": []
  },
  "kernelspec": {
   "display_name": "Python 3",
   "language": "python",
   "name": "python3"
  },
  "language_info": {
   "codemirror_mode": {
    "name": "ipython",
    "version": 3
   },
   "file_extension": ".py",
   "mimetype": "text/x-python",
   "name": "python",
   "nbconvert_exporter": "python",
   "pygments_lexer": "ipython3",
   "version": "3.9.2"
  }
 },
 "nbformat": 4,
 "nbformat_minor": 5
}
