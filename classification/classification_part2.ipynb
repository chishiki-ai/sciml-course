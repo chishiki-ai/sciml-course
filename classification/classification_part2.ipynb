{
 "cells": [
  {
   "cell_type": "markdown",
   "id": "dominant-revision",
   "metadata": {
    "id": "f3b14cf6-a36f-48a4-994c-f37d0a8dea41"
   },
   "source": [
    "# 01: Classification Part 2"
   ]
  },
  {
   "cell_type": "markdown",
   "id": "ceramic-diana",
   "metadata": {
    "id": "002febf7"
   },
   "source": [
    "### Load variables"
   ]
  },
  {
   "cell_type": "code",
   "execution_count": null,
   "id": "announced-hurricane",
   "metadata": {},
   "outputs": [],
   "source": [
    "import pickle\n",
    "import pandas as pd\n",
    "with open(\"classification.pickle\", \"rb\") as f:\n",
    "    transform_series = lambda x: pd.DataFrame(x).iloc[:,0] if isinstance(x, pd.core.series.Series) else x\n",
    "    X_train, y_train, X_val, y_val, X_test, y_test = list(map(transform_series, pickle.load(f)[0:6]))"
   ]
  },
  {
   "cell_type": "markdown",
   "id": "satisfied-chain",
   "metadata": {
    "id": "7ba21832"
   },
   "source": [
    "### Decision tree with SciKit Learn\n",
    "\n",
    "Import packages and functions below."
   ]
  },
  {
   "cell_type": "code",
   "execution_count": null,
   "id": "common-industry",
   "metadata": {
    "id": "6432b78c"
   },
   "outputs": [],
   "source": [
    "from sklearn import tree\n",
    "from sklearn.metrics import accuracy_score"
   ]
  },
  {
   "cell_type": "markdown",
   "id": "japanese-chart",
   "metadata": {},
   "source": [
    "Make a decision tree `clf`."
   ]
  },
  {
   "cell_type": "code",
   "execution_count": null,
   "id": "executive-mozambique",
   "metadata": {},
   "outputs": [],
   "source": [
    "# TODO: EXERCISE\n",
    "\n",
    "# Train a decision tree classifier with max_depth=3 on the training set"
   ]
  },
  {
   "cell_type": "markdown",
   "id": "major-munich",
   "metadata": {},
   "source": [
    "Evaulate the accuracy of `clf` with the training, validation, and testing sets."
   ]
  },
  {
   "cell_type": "code",
   "execution_count": null,
   "id": "usual-xerox",
   "metadata": {
    "colab": {
     "base_uri": "https://localhost:8080/"
    },
    "id": "eddb57ef",
    "outputId": "a8d44617-536f-42d8-d7da-ef021f45722a"
   },
   "outputs": [],
   "source": [
    "print('Training score: %.2f%%' %(clf.score(X_train, y_train) * 100))\n",
    "print('Validation score: %.2f%%' %(clf.score(X_val, y_val) * 100))\n",
    "print('Testing score: %.2f%%' %(clf.score(X_test, y_test) * 100))"
   ]
  },
  {
   "cell_type": "markdown",
   "id": "dedicated-vietnamese",
   "metadata": {},
   "source": [
    "Alternatively, use `accuracy_score`."
   ]
  },
  {
   "cell_type": "code",
   "execution_count": null,
   "id": "cubic-salem",
   "metadata": {
    "colab": {
     "base_uri": "https://localhost:8080/"
    },
    "id": "27cce1cd",
    "outputId": "223cfe02-8f25-4527-bf2d-bc62b8f347f9"
   },
   "outputs": [],
   "source": [
    "accuracy_score(y_test, clf.predict(X_test))"
   ]
  },
  {
   "cell_type": "markdown",
   "id": "capital-philip",
   "metadata": {
    "id": "5f5d2be0"
   },
   "source": [
    "#### Decision tree prediction"
   ]
  },
  {
   "cell_type": "code",
   "execution_count": null,
   "id": "attractive-coupon",
   "metadata": {},
   "outputs": [],
   "source": [
    "# TODO: EXERCISE\n",
    "\n",
    "# Predict with clf."
   ]
  },
  {
   "cell_type": "markdown",
   "id": "satisfactory-heath",
   "metadata": {
    "id": "9a8d77a5"
   },
   "source": [
    "### Visualizing a decision tree"
   ]
  },
  {
   "cell_type": "code",
   "execution_count": null,
   "id": "streaming-proceeding",
   "metadata": {
    "colab": {
     "base_uri": "https://localhost:8080/",
     "height": 1000
    },
    "id": "2cb167b6",
    "outputId": "ae23a679-3446-462c-b2a5-bfc455a60986"
   },
   "outputs": [],
   "source": [
    "%matplotlib inline\n",
    "import matplotlib.pyplot as plt\n",
    "\n",
    "# display a visual representation of the decision tree\n",
    "fig, ax = plt.subplots(figsize=(20, 20))\n",
    "tree.plot_tree(clf,\n",
    "               feature_names =['GWD (m)', 'L (km)', 'Slope (%)', 'PGA (g)'],\n",
    "               class_names=['Liquefaction', 'No liquefaction'],\n",
    "               filled = True)\n",
    "fig.show()"
   ]
  },
  {
   "cell_type": "markdown",
   "id": "conceptual-cocktail",
   "metadata": {
    "id": "50e5d64f"
   },
   "source": [
    "### Update model"
   ]
  },
  {
   "cell_type": "code",
   "execution_count": null,
   "id": "covered-milton",
   "metadata": {},
   "outputs": [],
   "source": [
    "# TODO: EXERCISE\n",
    "\n",
    "# Train a decision tree classifier with max_depth=7 on the training set"
   ]
  },
  {
   "cell_type": "code",
   "execution_count": null,
   "id": "unable-shanghai",
   "metadata": {
    "colab": {
     "base_uri": "https://localhost:8080/"
    },
    "id": "b534b356",
    "outputId": "6b5a9dc9-7f38-4cdb-91d4-05457dcaa13c",
    "scrolled": true
   },
   "outputs": [],
   "source": [
    "print('Training score: %.2f%%' %(clf.score(X_train, y_train) * 100))\n",
    "print('Validation score: %.2f%%' %(clf.score(X_val, y_val) * 100))\n",
    "print('Testing score: %.2f%%' %(clf.score(X_test, y_test) * 100))"
   ]
  }
 ],
 "metadata": {
  "IMAGE_NAME": "taccsciapps/ds-nb-img:base-0.1.2",
  "UUID": "74a50b78-3e8a-11ed-8804-4effbeb9a4da",
  "colab": {
   "provenance": []
  },
  "kernelspec": {
   "display_name": "Python 3",
   "language": "python",
   "name": "python3"
  },
  "language_info": {
   "codemirror_mode": {
    "name": "ipython",
    "version": 3
   },
   "file_extension": ".py",
   "mimetype": "text/x-python",
   "name": "python",
   "nbconvert_exporter": "python",
   "pygments_lexer": "ipython3",
   "version": "3.9.2"
  }
 },
 "nbformat": 4,
 "nbformat_minor": 5
}
