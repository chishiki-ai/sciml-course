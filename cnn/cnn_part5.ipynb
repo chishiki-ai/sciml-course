{
 "cells": [
  {
   "cell_type": "markdown",
   "id": "divided-endorsement",
   "metadata": {},
   "source": [
    "# Multi node Distributed training with PyTorch"
   ]
  },
  {
   "cell_type": "markdown",
   "id": "de185291",
   "metadata": {},
   "source": [
    "## Multi Node Application with PyTorch Distributed: Message Exchanging Example"
   ]
  },
  {
   "cell_type": "code",
   "execution_count": null,
   "id": "03695c65",
   "metadata": {},
   "outputs": [],
   "source": [
    "! chmod 700 cnn_part5_message_passing.sh \n",
    "! mpirun -np 2 -ppn 1 cnn_part5_message_passing.sh "
   ]
  },
  {
   "cell_type": "markdown",
   "id": "eead7808",
   "metadata": {},
   "source": [
    "## Multi Node Application with PyTorch Distributed: Damage Level Example"
   ]
  },
  {
   "cell_type": "markdown",
   "id": "3ab44d1c",
   "metadata": {},
   "source": [
    "Download the dataset to $SCRATCH"
   ]
  },
  {
   "cell_type": "code",
   "execution_count": null,
   "id": "rural-disco",
   "metadata": {},
   "outputs": [],
   "source": [
    "! chmod 700 cnn_part5_copy_data.sh \n",
    "! cnn_part5_copy_data.sh /work2/10000/zw427/data.tar.gz $SCRATCH"
   ]
  },
  {
   "cell_type": "code",
   "execution_count": null,
   "id": "mechanical-sullivan",
   "metadata": {},
   "outputs": [],
   "source": [
    "! chmod 700 cnn_part5_run_distributed.sh\n",
    "! mpirun -np 2 -ppn 1 cnn_part5_run_distributed.sh "
   ]
  }
 ],
 "metadata": {
  "kernelspec": {
   "display_name": "Python 3",
   "language": "python",
   "name": "python3"
  },
  "language_info": {
   "codemirror_mode": {
    "name": "ipython",
    "version": 3
   },
   "file_extension": ".py",
   "mimetype": "text/x-python",
   "name": "python",
   "nbconvert_exporter": "python",
   "pygments_lexer": "ipython3",
   "version": "3.9.2"
  },
  "toc": {
   "base_numbering": 1,
   "nav_menu": {},
   "number_sections": true,
   "sideBar": true,
   "skip_h1_title": false,
   "title_cell": "Table of Contents",
   "title_sidebar": "Contents",
   "toc_cell": false,
   "toc_position": {},
   "toc_section_display": true,
   "toc_window_display": false
  }
 },
 "nbformat": 4,
 "nbformat_minor": 5
}
